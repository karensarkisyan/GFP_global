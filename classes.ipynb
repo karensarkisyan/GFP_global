{
 "cells": [
  {
   "cell_type": "code",
   "execution_count": 1,
   "metadata": {},
   "outputs": [],
   "source": [
    "import pandas as pd\n",
    "import numpy as np\n",
    "import re\n",
    "import matplotlib.pyplot as plt\n",
    "%matplotlib inline"
   ]
  },
  {
   "cell_type": "code",
   "execution_count": 69,
   "metadata": {
    "collapsed": true
   },
   "outputs": [],
   "source": [
    "class Read:\n",
    "    \n",
    "    '''This class is for reads extracted from fastq files.'''\n",
    "    \n",
    "    def __init__(self, sq, quality, name):\n",
    "        \n",
    "        '''Initializes a read with a nt sequence, \n",
    "        a quality string, and a read name.'''\n",
    "        \n",
    "        self.nt = sq\n",
    "        self.quality = quality\n",
    "        self.name = name\n",
    "        self.length = len(self.nt)\n",
    "        \n",
    "    def revcomp(self,inplace=True):\n",
    "        \n",
    "        '''This function returns reverse compliment of the input sequence.'''\n",
    "    \n",
    "        revcomp_sq=''\n",
    "        compdict={'A':'T','T':'A','C':'G','G':'C'}\n",
    "        for nt in self.nt[::-1]:\n",
    "            revcomp_sq+=compdict[nt]\n",
    "            \n",
    "        if inplace:\n",
    "            self.nt = revcomp_sq\n",
    "        else:\n",
    "            self.revcomp = revcomp_sq\n",
    "            \n",
    "            \n",
    "    def slicer(self, pattern, before=True):\n",
    "    \n",
    "        '''This function slices the input string (my_string) either up until the \n",
    "        regexp found (before=True), or after (in the latter case, the regexp is \n",
    "        also cut away from my_str). The function also returns index of regexp \n",
    "        found -- in order to be able to use it with other strings, f.e. quality.'''\n",
    "\n",
    "        index = re.search(pattern,self.nt).start()\n",
    "\n",
    "        if index!=-1:\n",
    "            \n",
    "            if before:\n",
    "                self.nt = self.nt[index:]\n",
    "                self.quality = self.quality[index:]\n",
    "            else:\n",
    "                self.nt = self.nt[:index]\n",
    "                self.quality = self.quality[:index]\n",
    "                \n",
    "                \n",
    "    def find_start_and_trim(self, pattern):\n",
    "    \n",
    "        '''This function searches for pattern (both forward and reverse complement) \n",
    "        in sq and cuts it up until this pattern. It cuts the quality sequence accordingly, \n",
    "        so that only the quality scores that correspond to the obtained trimmed sequence \n",
    "        are stored. It also performs reverse complement of sequences, which are not \n",
    "        oriented in the right way.'''\n",
    "\n",
    "        if re.search(pattern, self.nt):\n",
    "            self.slicer(pattern)\n",
    "            \n",
    "        elif re.search(revcomp(pattern),sq):\n",
    "            self.quality = self.quality[::-1]\n",
    "            self.nt.revcomp()\n",
    "            self.nt.slicer(pattern)\n",
    "    \n",
    "    \n",
    "    def find_barcode(self, pattern, indentation, bc_length):\n",
    "    \n",
    "        '''This function extracts barcodes from sequences, searching for the input pattern and \n",
    "        adjusting for the indentation of the library design. It crops the target sequence and\n",
    "        the corresponding quality string up untilthe start of the pattern. It also splits the \n",
    "        quality str into the barcode and the target sequence parts.\n",
    "        \n",
    "        The output is: bc sequence, bc quality, target sq, target sq quality.'''\n",
    "        \n",
    "        if re.search(pattern, self.nt):\n",
    "            self.bc = re.search(pattern, self.nt).group()[indentation:]\n",
    "            index = re.search(pattern, self.nt).start()\n",
    "            self.bc_quality = self.quality[index+indentation:index+bc_length+indentation]\n",
    "            self.slicer(pattern, before=False)\n",
    "       \n",
    "    \n",
    "    def extract_mutations(self, true_sq):\n",
    "        \n",
    "        '''Given a non-mutated sequence, this function converts a read sequence into\n",
    "        a list of mutated positions in the following format:\n",
    "        \n",
    "        A10G \n",
    "        where G = original_nt, 10 = position of mutation (numberation starts from 0), \n",
    "        G = new_nt'''\n",
    "        \n",
    "        self.mutations=[]\n",
    "        for i,nt in enumerate(true_sq):\n",
    "            if nt!=self.nt[i]:\n",
    "                self.mutations.append(nt+str(i)+self.nt[i])"
   ]
  },
  {
   "cell_type": "code",
   "execution_count": 70,
   "metadata": {},
   "outputs": [
    {
     "name": "stdout",
     "output_type": "stream",
     "text": [
      "Help on class Read in module __main__:\n",
      "\n",
      "class Read\n",
      " |  This class is for reads extracted from fastq files.\n",
      " |  \n",
      " |  Methods defined here:\n",
      " |  \n",
      " |  __init__(self, sq, quality, name)\n",
      " |      Initializes a read with a nt sequence, \n",
      " |      a quality string, and a read name.\n",
      " |  \n",
      " |  extract_mutations(self, true_sq)\n",
      " |      Given a non-mutated sequence, this function converts a read sequence into\n",
      " |      a list of mutated positions in the following format:\n",
      " |      \n",
      " |      A10G \n",
      " |      where G = original_nt, 10 = position of mutation (numberation starts from 0), \n",
      " |      G = new_nt\n",
      " |  \n",
      " |  find_barcode(self, pattern, indentation, bc_length)\n",
      " |      This function extracts barcodes from sequences, searching for the input pattern and \n",
      " |      adjusting for the indentation of the library design. It crops the target sequence and\n",
      " |      the corresponding quality string up untilthe start of the pattern. It also splits the \n",
      " |      quality str into the barcode and the target sequence parts.\n",
      " |      \n",
      " |      The output is: bc sequence, bc quality, target sq, target sq quality.\n",
      " |  \n",
      " |  find_start_and_trim(self, pattern)\n",
      " |      'This function searches for pattern (both forward and reverse complement) \n",
      " |      in sq and cuts it up until this pattern. It cuts the quality sequence accordingly, \n",
      " |      so that only the quality scores that correspond to the obtained trimmed sequence \n",
      " |      are stored. It also performs reverse complement of sequences, which are not \n",
      " |      oriented in the right way.\n",
      " |  \n",
      " |  revcomp(self, inplace=True)\n",
      " |      This function returns reverse compliment of the input sequence.\n",
      " |  \n",
      " |  slicer(self, pattern, before=True)\n",
      " |      This function slices the input string (my_string) either up until the \n",
      " |      regexp found (before=True), or after (in the latter case, the regexp is \n",
      " |      also cut away from my_str). The function also returns index of regexp \n",
      " |      found -- in order to be able to use it with other strings, f.e. quality.\n",
      "\n"
     ]
    }
   ],
   "source": [
    "help(Read)"
   ]
  },
  {
   "cell_type": "code",
   "execution_count": 55,
   "metadata": {
    "collapsed": true
   },
   "outputs": [],
   "source": [
    "class Library:\n",
    "    \n",
    "    '''This class is a collection of Reads, extracted from a fastq file.'''\n",
    "    \n",
    "    def __init__(self, file_path):\n",
    "        \n",
    "        with open(file_path, 'r') as f:\n",
    "            lines=f.readlines()\n",
    "        \n",
    "        self.sequences = []\n",
    "\n",
    "        for i in range(0,len(lines),4):\n",
    "            self.sequences.append(Read(sq = lines[i+1].rstrip('\\n'),\n",
    "                                          quality = lines[i+3].rstrip('\\n'),\n",
    "                                          name = lines[i].rstrip('\\n')))\n",
    "\n",
    "    def filter_by_length(self,length=733):\n",
    "        \n",
    "        self.sequences = [x for x in self.sequences if x.length==length]"
   ]
  },
  {
   "cell_type": "code",
   "execution_count": 58,
   "metadata": {
    "collapsed": true
   },
   "outputs": [],
   "source": [
    "file_path='./data/quality_filtered/reads.filtered.fastq'\n",
    "fastq = Library(file_path)"
   ]
  },
  {
   "cell_type": "code",
   "execution_count": 61,
   "metadata": {},
   "outputs": [
    {
     "data": {
      "text/plain": [
       "(array([1.00000e+00, 5.00000e+00, 8.00000e+00, 4.10000e+01, 4.60000e+01,\n",
       "        7.30000e+01, 8.10000e+01, 1.08000e+02, 1.27000e+02, 1.04000e+02,\n",
       "        8.50000e+01, 9.20000e+01, 1.14000e+02, 5.02000e+02, 1.30600e+03,\n",
       "        6.79000e+02, 1.68000e+02, 1.91000e+02, 2.66900e+03, 1.93588e+05,\n",
       "        3.50000e+01, 1.50000e+01, 6.00000e+00, 6.00000e+00, 3.00000e+00,\n",
       "        2.00000e+00, 8.00000e+00, 5.00000e+00, 5.00000e+00, 1.10000e+01,\n",
       "        1.10000e+01, 8.00000e+00, 9.00000e+00, 1.30000e+01, 1.90000e+01,\n",
       "        1.90000e+01, 1.50000e+01, 1.60000e+01, 2.40000e+01, 2.70000e+01,\n",
       "        6.20000e+01, 1.40000e+02, 7.90000e+01, 2.70000e+01, 6.30000e+01,\n",
       "        9.60000e+02, 6.81100e+03, 2.00000e+00, 0.00000e+00, 1.00000e+00,\n",
       "        2.00000e+00, 0.00000e+00, 2.00000e+00, 3.00000e+00, 0.00000e+00,\n",
       "        0.00000e+00, 2.00000e+00, 0.00000e+00, 2.00000e+00, 2.00000e+00,\n",
       "        1.00000e+00, 7.12000e+02, 2.00000e+00, 3.00000e+00, 1.00000e+00,\n",
       "        0.00000e+00, 3.00000e+00, 2.00000e+00, 8.00000e+00, 3.00000e+00,\n",
       "        1.00000e+00, 2.30000e+01, 2.11000e+02, 3.40000e+01, 0.00000e+00,\n",
       "        0.00000e+00, 0.00000e+00, 0.00000e+00, 0.00000e+00, 0.00000e+00,\n",
       "        0.00000e+00, 0.00000e+00, 0.00000e+00, 0.00000e+00, 1.00000e+00,\n",
       "        0.00000e+00, 0.00000e+00, 0.00000e+00, 0.00000e+00, 1.00000e+00,\n",
       "        0.00000e+00, 0.00000e+00, 0.00000e+00, 1.00000e+00, 1.00000e+00,\n",
       "        2.00000e+00, 2.00000e+00, 3.00000e+00, 7.00000e+00, 1.60000e+01]),\n",
       " array([ 216.  ,  244.46,  272.92,  301.38,  329.84,  358.3 ,  386.76,\n",
       "         415.22,  443.68,  472.14,  500.6 ,  529.06,  557.52,  585.98,\n",
       "         614.44,  642.9 ,  671.36,  699.82,  728.28,  756.74,  785.2 ,\n",
       "         813.66,  842.12,  870.58,  899.04,  927.5 ,  955.96,  984.42,\n",
       "        1012.88, 1041.34, 1069.8 , 1098.26, 1126.72, 1155.18, 1183.64,\n",
       "        1212.1 , 1240.56, 1269.02, 1297.48, 1325.94, 1354.4 , 1382.86,\n",
       "        1411.32, 1439.78, 1468.24, 1496.7 , 1525.16, 1553.62, 1582.08,\n",
       "        1610.54, 1639.  , 1667.46, 1695.92, 1724.38, 1752.84, 1781.3 ,\n",
       "        1809.76, 1838.22, 1866.68, 1895.14, 1923.6 , 1952.06, 1980.52,\n",
       "        2008.98, 2037.44, 2065.9 , 2094.36, 2122.82, 2151.28, 2179.74,\n",
       "        2208.2 , 2236.66, 2265.12, 2293.58, 2322.04, 2350.5 , 2378.96,\n",
       "        2407.42, 2435.88, 2464.34, 2492.8 , 2521.26, 2549.72, 2578.18,\n",
       "        2606.64, 2635.1 , 2663.56, 2692.02, 2720.48, 2748.94, 2777.4 ,\n",
       "        2805.86, 2834.32, 2862.78, 2891.24, 2919.7 , 2948.16, 2976.62,\n",
       "        3005.08, 3033.54, 3062.  ]),\n",
       " <a list of 100 Patch objects>)"
      ]
     },
     "execution_count": 61,
     "metadata": {},
     "output_type": "execute_result"
    },
    {
     "data": {
      "image/png": "[encoded data removed]",
      "text/plain": [
       "<Figure size 432x288 with 1 Axes>"
      ]
     },
     "metadata": {},
     "output_type": "display_data"
    }
   ],
   "source": [
    "plt.hist([x.length for x in fastq.sequences], bins=100)"
   ]
  },
  {
   "cell_type": "code",
   "execution_count": null,
   "metadata": {
    "collapsed": true
   },
   "outputs": [],
   "source": []
  }
 ],
 "metadata": {
  "kernelspec": {
   "display_name": "Python 2",
   "language": "python",
   "name": "python2"
  },
  "language_info": {
   "codemirror_mode": {
    "name": "ipython",
    "version": 2
   },
   "file_extension": ".py",
   "mimetype": "text/x-python",
   "name": "python",
   "nbconvert_exporter": "python",
   "pygments_lexer": "ipython2",
   "version": "2.7.13"
  }
 },
 "nbformat": 4,
 "nbformat_minor": 2
}
